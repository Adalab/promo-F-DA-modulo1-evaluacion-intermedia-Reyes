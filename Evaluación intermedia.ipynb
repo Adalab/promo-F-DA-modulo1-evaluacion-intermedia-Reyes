{
 "cells": [
  {
   "cell_type": "markdown",
   "metadata": {},
   "source": [
    "*Strings*"
   ]
  },
  {
   "cell_type": "code",
   "execution_count": 285,
   "metadata": {},
   "outputs": [
    {
     "name": "stdout",
     "output_type": "stream",
     "text": [
      "4\n"
     ]
    }
   ],
   "source": [
    "#1. Dada una cadena de texto, contar cuántas veces aparece una letra específica en ella. Usa un input para que el usuario elija la letra a buscar.\n",
    "cadena = \"Python es un lenguaje de programación muy popular\"\n",
    "pregunta= input(\"¿Qué letra quieres que te busque?\")\n",
    "letra= cadena.count(pregunta)\n",
    "print(letra)\n",
    "                   \n"
   ]
  },
  {
   "cell_type": "code",
   "execution_count": 10,
   "metadata": {},
   "outputs": [
    {
     "name": "stdout",
     "output_type": "stream",
     "text": [
      "Python es fatal. Python es fácil de aprender.\n"
     ]
    }
   ],
   "source": [
    "#2. Escribe un programa que tome la siguiente cadena de texto y reemplace una palabra específica por otra palabra. \n",
    "# La palabra a reemplazar y reemplazada deben ser elegidas por el usuario.\n",
    "cadena = \"Python es genial. Python es fácil de aprender.\"\n",
    "pregunta= input(\"¿Qué palabra quieres reemplazar\")\n",
    "reemplazo= input(\"¿Qué letra quieres en su lugar\")\n",
    "palabra= cadena.replace(pregunta, reemplazo)\n",
    "print(palabra)\n"
   ]
  },
  {
   "cell_type": "code",
   "execution_count": 19,
   "metadata": {},
   "outputs": [
    {
     "name": "stdout",
     "output_type": "stream",
     "text": [
      "['Esto', 'es', 'una', 'oración', 'de', 'ejemplo']\n",
      "Esto es una oración de ejemplo\n"
     ]
    }
   ],
   "source": [
    "#3. Toma la siguiente oración y divídela en una lista de palabras. Luego, únelas nuevamente en una sola cadena de texto.\n",
    "oracion = \"Esto es una oración de ejemplo\"\n",
    "separada= oracion.split()\n",
    "print(separada)\n",
    "junta= \" \".join(separada)\n",
    "print(junta)\n"
   ]
  },
  {
   "cell_type": "code",
   "execution_count": 21,
   "metadata": {},
   "outputs": [
    {
     "data": {
      "text/plain": [
       "7"
      ]
     },
     "execution_count": 21,
     "metadata": {},
     "output_type": "execute_result"
    }
   ],
   "source": [
    "#4. Desarrolla un programa que cuente cuántas palabras hay en la siguiente frase.\n",
    "cadena = \"Esta es una cadena con cinco palabras\"\n",
    "separada=cadena.split()\n",
    "len(separada)"
   ]
  },
  {
   "cell_type": "code",
   "execution_count": 311,
   "metadata": {},
   "outputs": [
    {
     "data": {
      "text/plain": [
       "['tal', 'que', 'Hola']"
      ]
     },
     "execution_count": 311,
     "metadata": {},
     "output_type": "execute_result"
    }
   ],
   "source": [
    "#5. Escribe un programa que invierta una cadena de texto dada por un usuario. Mira el siguiente ejemplo para entender lo que se pide:\n",
    "\n",
    "cadena=input(\"Escribe una frase cualquiera\")\n",
    "separada=cadena.split()\n",
    "separada.reverse()\n",
    "separada\n",
    "\n"
   ]
  },
  {
   "cell_type": "code",
   "execution_count": 45,
   "metadata": {},
   "outputs": [
    {
     "data": {
      "text/plain": [
       "4"
      ]
     },
     "execution_count": 45,
     "metadata": {},
     "output_type": "execute_result"
    }
   ],
   "source": [
    "#6. Crea un programa que busque una palabra específica(elegida por la usuaria) en una cadena de texto e indique su posición.\n",
    "cadena= \"Hoy estoy teniendo un buen día.\"\n",
    "cadena_a=cadena.split()\n",
    "palabra= input(\"¿Qué palabra quieres que busque?\")\n",
    "cadena_a.index(palabra)\n",
    "\n"
   ]
  },
  {
   "cell_type": "markdown",
   "metadata": {},
   "source": [
    "*Listas*"
   ]
  },
  {
   "cell_type": "code",
   "execution_count": 312,
   "metadata": {},
   "outputs": [
    {
     "name": "stdout",
     "output_type": "stream",
     "text": [
      "['manzana', 'durazno', 'banana', 'uva', 'kiwi']\n",
      "['manzana', 'pera', 'banana', 'uva', 'kiwi']\n",
      "banana\n"
     ]
    }
   ],
   "source": [
    "#1.Dada la siguiente lista: frutas = ['manzana', 'pera', 'banana', 'uva', 'kiwi'], realiza lo siguiente:\n",
    "#a) Reemplaza el segundo elemento con 'durazno'.\n",
    "frutas= ['manzana', 'pera', 'banana', 'uva', 'kiwi']\n",
    "frutas2=frutas.copy()\n",
    "frutas2.pop(1)\n",
    "frutas2.insert(1, \"durazno\")\n",
    "print(frutas2)\n",
    "\n",
    "#b) Agrega 'naranja' al final de la lista.\n",
    "frutas2.append(\"naranja\")\n",
    "print(frutas)\n",
    "\n",
    "#c) Extrae y muestra por pantalla el tercer elemento de la lista.\n",
    "print(frutas2[2])\n",
    "\n"
   ]
  },
  {
   "cell_type": "code",
   "execution_count": 313,
   "metadata": {},
   "outputs": [
    {
     "data": {
      "text/plain": [
       "[10, 25, 15, 30, 20]"
      ]
     },
     "execution_count": 313,
     "metadata": {},
     "output_type": "execute_result"
    }
   ],
   "source": [
    "#2. Crea una lista llamada numeros que contenga los siguientes valores: 10, 25, 15, 30, 20.\n",
    "numeros=[10, 25, 15, 30, 20]\n",
    "numeros\n"
   ]
  },
  {
   "cell_type": "code",
   "execution_count": 314,
   "metadata": {},
   "outputs": [
    {
     "data": {
      "text/plain": [
       "[35, 10, 25, 15, 30, 20]"
      ]
     },
     "execution_count": 314,
     "metadata": {},
     "output_type": "execute_result"
    }
   ],
   "source": [
    "#3. Agrega el valor 35 al incio de la lista numeros.\n",
    "numeros.insert(0, 35)\n",
    "numeros"
   ]
  },
  {
   "cell_type": "code",
   "execution_count": 315,
   "metadata": {},
   "outputs": [
    {
     "data": {
      "text/plain": [
       "[10, 15, 20, 25, 30, 35]"
      ]
     },
     "execution_count": 315,
     "metadata": {},
     "output_type": "execute_result"
    }
   ],
   "source": [
    "#4. Ordena la lista numeros en orden ascendente.\n",
    "numeros.sort()\n",
    "numeros"
   ]
  },
  {
   "cell_type": "code",
   "execution_count": 316,
   "metadata": {},
   "outputs": [
    {
     "data": {
      "text/plain": [
       "[10, 15, 20, 25, 30, 45, 22, 19, 38, 29]"
      ]
     },
     "execution_count": 316,
     "metadata": {},
     "output_type": "execute_result"
    }
   ],
   "source": [
    "#5. Dada la siguiente lista numeros2 = [45, 22, 19, 38, 29]. \n",
    "#Crea una nueva lista llamada numeros3 donde tengamos la unión de los todos los elementos de las dos listas (numeros y numeros2) de tal forma que el resultado final sea:\n",
    "#numeros3 = [10, 25, 15, 30, 20, 45, 22, 19, 38, 29]\n",
    "numeros.pop() \n",
    "numeros2=[45, 22, 19, 38, 29]\n",
    "numeros3=numeros+numeros2\n",
    "numeros3\n",
    "\n"
   ]
  },
  {
   "cell_type": "code",
   "execution_count": 79,
   "metadata": {},
   "outputs": [
    {
     "data": {
      "text/plain": [
       "[10, 15, 20, 25, 30, 45, 22, 19, 38]"
      ]
     },
     "execution_count": 79,
     "metadata": {},
     "output_type": "execute_result"
    }
   ],
   "source": [
    "#6. Elimina el último elemento de la lista numeros3.\n",
    "numeros3.pop()\n",
    "numeros3\n"
   ]
  },
  {
   "cell_type": "code",
   "execution_count": 80,
   "metadata": {},
   "outputs": [
    {
     "data": {
      "text/plain": [
       "[10, 15, 20, 25, 45, 22, 19, 38]"
      ]
     },
     "execution_count": 80,
     "metadata": {},
     "output_type": "execute_result"
    }
   ],
   "source": [
    "#7. Elimina el número 30 de la lista numeros3.\n",
    "numeros3.remove(30)\n",
    "numeros3"
   ]
  },
  {
   "cell_type": "markdown",
   "metadata": {},
   "source": [
    "*Tuplas*"
   ]
  },
  {
   "cell_type": "code",
   "execution_count": 317,
   "metadata": {},
   "outputs": [],
   "source": [
    "#1. Crea una tupla llamada colores que contenga los siguientes valores: 'rojo', 'verde', 'azul', 'amarillo', 'morado'.\n",
    "colores=('rojo', 'verde', 'azul', 'amarillo', 'morado')"
   ]
  },
  {
   "cell_type": "code",
   "execution_count": 318,
   "metadata": {},
   "outputs": [
    {
     "data": {
      "text/plain": [
       "1"
      ]
     },
     "execution_count": 318,
     "metadata": {},
     "output_type": "execute_result"
    }
   ],
   "source": [
    "#2. Encuentra el índice de 'verde' en la tupla colores.\n",
    "colores.index(\"verde\")"
   ]
  },
  {
   "cell_type": "code",
   "execution_count": 319,
   "metadata": {},
   "outputs": [
    {
     "data": {
      "text/plain": [
       "1"
      ]
     },
     "execution_count": 319,
     "metadata": {},
     "output_type": "execute_result"
    }
   ],
   "source": [
    "#3. Cuántas veces aparece 'azul' en la tupla colores?\n",
    "colores.count(\"azul\")"
   ]
  },
  {
   "cell_type": "code",
   "execution_count": 85,
   "metadata": {},
   "outputs": [
    {
     "name": "stdout",
     "output_type": "stream",
     "text": [
      "('rojo', 'verde', 'azul', 'amarillo', 'morado')\n"
     ]
    }
   ],
   "source": [
    "#4. Añade el color \"morado\" a la tupla colores. ¿Qué ha pasado? ¿Por qué? Como podríamos añadir el elemento \"morado\".\n",
    "\n",
    "#Una de las propiedades de las tuplas es que son inmutables, para poder añadir un elemento a una tupla primero tenemos que pasarlo a lista. \n",
    "colores2=list(colores)\n",
    "colores2.append(\"morado\")\n",
    "colores2=tuple(colores)\n",
    "print(colores)"
   ]
  },
  {
   "cell_type": "markdown",
   "metadata": {},
   "source": [
    "*Diccionarios*"
   ]
  },
  {
   "cell_type": "code",
   "execution_count": 357,
   "metadata": {},
   "outputs": [],
   "source": [
    "#1.Crea un diccionario llamado frutas con las siguientes parejas clave-valor:\n",
    "frutas={\"manzana\":2, \"banana\":3, \"uva\":5, \"pera\":4}\n"
   ]
  },
  {
   "cell_type": "code",
   "execution_count": 358,
   "metadata": {},
   "outputs": [
    {
     "data": {
      "text/plain": [
       "['manzana', 'banana', 'uva', 'pera']"
      ]
     },
     "execution_count": 358,
     "metadata": {},
     "output_type": "execute_result"
    }
   ],
   "source": [
    "#2. Saca una lista de todas las frutas en el diccionario.\n",
    "claves= list(frutas.keys())\n",
    "claves"
   ]
  },
  {
   "cell_type": "code",
   "execution_count": 359,
   "metadata": {},
   "outputs": [
    {
     "data": {
      "text/plain": [
       "[2, 3, 5, 4]"
      ]
     },
     "execution_count": 359,
     "metadata": {},
     "output_type": "execute_result"
    }
   ],
   "source": [
    "#3. Saca una lista de todas las cantidades en el diccionario.\n",
    "valores= list(frutas.values())\n",
    "valores"
   ]
  },
  {
   "cell_type": "code",
   "execution_count": 360,
   "metadata": {},
   "outputs": [
    {
     "data": {
      "text/plain": [
       "2"
      ]
     },
     "execution_count": 360,
     "metadata": {},
     "output_type": "execute_result"
    }
   ],
   "source": [
    "#4. ¿Qué cantidad de 'manzana' tenemos?. Si la clave 'manzana' no está presente, devuelve un mensaje diciendo \"No existe esa clave\".\n",
    "frutas.get(\"manzana\", \"No existe esa clave\")"
   ]
  },
  {
   "cell_type": "code",
   "execution_count": 361,
   "metadata": {},
   "outputs": [
    {
     "data": {
      "text/plain": [
       "{'manzana': 2, 'banana': 3, 'uva': 5, 'pera': 4, 'kiwi': 6}"
      ]
     },
     "execution_count": 361,
     "metadata": {},
     "output_type": "execute_result"
    }
   ],
   "source": [
    "#5. Agrega un nuevo par de clave-valor al diccionario frutas: 'kiwi' con una cantidad de 6.\n",
    "frutas[\"kiwi\"]= 6\n",
    "frutas"
   ]
  },
  {
   "cell_type": "code",
   "execution_count": 362,
   "metadata": {},
   "outputs": [
    {
     "data": {
      "text/plain": [
       "{'manzana': 2, 'banana': 3, 'uva': 8, 'pera': 4, 'kiwi': 6}"
      ]
     },
     "execution_count": 362,
     "metadata": {},
     "output_type": "execute_result"
    }
   ],
   "source": [
    "#6. Cambia la cantidad de 'uva' a 8.\n",
    "frutas2=frutas.copy()\n",
    "frutas2[\"uva\"]=8\n",
    "frutas2\n",
    "\n"
   ]
  },
  {
   "cell_type": "code",
   "execution_count": 363,
   "metadata": {},
   "outputs": [
    {
     "data": {
      "text/plain": [
       "{'sandia': 7, 'mango': 4}"
      ]
     },
     "execution_count": 363,
     "metadata": {},
     "output_type": "execute_result"
    }
   ],
   "source": [
    "#7. Crea un segundo diccionario llamado frutas_nuevas con las siguientes parejas clave-valor\n",
    "frutas_nuevas={\"sandia\":7, \"mango\":4}\n",
    "frutas_nuevas\n"
   ]
  },
  {
   "cell_type": "code",
   "execution_count": 364,
   "metadata": {},
   "outputs": [
    {
     "data": {
      "text/plain": [
       "{'manzana': 2,\n",
       " 'banana': 3,\n",
       " 'uva': 8,\n",
       " 'pera': 4,\n",
       " 'kiwi': 6,\n",
       " 'sandia': 7,\n",
       " 'mango': 4}"
      ]
     },
     "execution_count": 364,
     "metadata": {},
     "output_type": "execute_result"
    }
   ],
   "source": [
    "#8.Combinar los dos diccionarios frutas_nuevas y frutas en uno nuevos llamado frutas_total.\n",
    "frutas_total= frutas2.update(frutas_nuevas)\n",
    "frutas2\n"
   ]
  },
  {
   "cell_type": "code",
   "execution_count": 365,
   "metadata": {},
   "outputs": [
    {
     "data": {
      "text/plain": [
       "('mango', 4)"
      ]
     },
     "execution_count": 365,
     "metadata": {},
     "output_type": "execute_result"
    }
   ],
   "source": [
    "#9. Elimina el último par de clave-valor del diccionario fruta_total.\n",
    "frutas2.popitem()\n",
    "\n"
   ]
  },
  {
   "cell_type": "code",
   "execution_count": 366,
   "metadata": {},
   "outputs": [
    {
     "data": {
      "text/plain": [
       "{'manzana': 2, 'banana': 3, 'uva': 5, 'pera': 4, 'kiwi': 6}"
      ]
     },
     "execution_count": 366,
     "metadata": {},
     "output_type": "execute_result"
    }
   ],
   "source": [
    "#10.Elimina el par de clave-valor correspondiente a la clave 'uva' del diccionario.\n",
    "frutas2.pop(\"uva\")\n",
    "frutas"
   ]
  },
  {
   "cell_type": "code",
   "execution_count": 367,
   "metadata": {},
   "outputs": [
    {
     "data": {
      "text/plain": [
       "{'manzana': 2, 'banana': 3, 'uva': 5, 'pera': 4, 'kiwi': 6}"
      ]
     },
     "execution_count": 367,
     "metadata": {},
     "output_type": "execute_result"
    }
   ],
   "source": [
    "#11.Agregar la fruta 'manzana' con una cantidad de 10 al diccionario. Si ya existe, no se realizarán cambios en los valores que teníamos.\n",
    "\n",
    "frutas.setdefault(\"manzana\", [10])\n",
    "frutas\n"
   ]
  },
  {
   "cell_type": "code",
   "execution_count": 369,
   "metadata": {},
   "outputs": [],
   "source": [
    "#12. Combinar métodos de listas y diccionarios:\n",
    "#Obtén una lista de todas las cantidades en el diccionario y calcula suma total de las cantidades del diccionario frutas_total.\n",
    "#Utilizando la lista creada en el apartado anterior encuentra la cantidad más grande y más pequeña.\n",
    "\n"
   ]
  }
 ],
 "metadata": {
  "kernelspec": {
   "display_name": "base",
   "language": "python",
   "name": "python3"
  },
  "language_info": {
   "codemirror_mode": {
    "name": "ipython",
    "version": 3
   },
   "file_extension": ".py",
   "mimetype": "text/x-python",
   "name": "python",
   "nbconvert_exporter": "python",
   "pygments_lexer": "ipython3",
   "version": "3.9.7"
  }
 },
 "nbformat": 4,
 "nbformat_minor": 2
}
